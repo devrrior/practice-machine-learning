{
 "cells": [
  {
   "cell_type": "markdown",
   "id": "cfa2947d",
   "metadata": {},
   "source": [
    "# Practice knowledge about Linear Progression"
   ]
  },
  {
   "cell_type": "markdown",
   "id": "53a7f094",
   "metadata": {},
   "source": [
    "### Problem:\n",
    "In a school, the rating of each student will depend on the student's faults."
   ]
  },
  {
   "cell_type": "code",
   "execution_count": null,
   "id": "a2438806",
   "metadata": {},
   "outputs": [],
   "source": [
    "import numpy\n",
    "import pandas"
   ]
  },
  {
   "cell_type": "code",
   "execution_count": null,
   "id": "0d8a69e2",
   "metadata": {},
   "outputs": [],
   "source": [
    "personas = {\n",
    "    \"falta\": pandas.Series(numpy.array([1,4,3,6])),\n",
    "    \"calificacion\": pandas.Series(numpy.array([9,6,8,5]))\n",
    "}"
   ]
  },
  {
   "cell_type": "code",
   "execution_count": null,
   "id": "7d63e731",
   "metadata": {},
   "outputs": [],
   "source": [
    "dataframe = pandas.DataFrame(personas)"
   ]
  },
  {
   "cell_type": "code",
   "execution_count": null,
   "id": "6f42e578",
   "metadata": {},
   "outputs": [],
   "source": [
    "dataframe"
   ]
  },
  {
   "cell_type": "code",
   "execution_count": null,
   "id": "f50aaf5e",
   "metadata": {},
   "outputs": [],
   "source": [
    "dataframe.loc[:, \"calificacion\"]"
   ]
  },
  {
   "cell_type": "code",
   "execution_count": null,
   "id": "5101b9f1",
   "metadata": {},
   "outputs": [],
   "source": [
    "import matplotlib.pyplot as pyplot\n",
    "%matplotlib inline\n",
    "import sklearn"
   ]
  },
  {
   "cell_type": "code",
   "execution_count": null,
   "id": "be4af2e1",
   "metadata": {},
   "outputs": [],
   "source": [
    "calificaciones = dataframe.loc[:, \"calificacion\"]\n",
    "faltas = dataframe.loc[:, \"falta\"]\n",
    "print(calificaciones)\n",
    "print(faltas)"
   ]
  },
  {
   "cell_type": "code",
   "execution_count": null,
   "id": "e34f153d",
   "metadata": {},
   "outputs": [],
   "source": [
    "pyplot.scatter(faltas, calificaciones)\n",
    "pyplot.title(\"Calificaciones de acuerdo a faltas\")\n",
    "pyplot.xlabel(\"Faltas\")\n",
    "pyplot.ylabel(\"Calificaciones\")\n",
    "pyplot.show()"
   ]
  },
  {
   "cell_type": "code",
   "execution_count": null,
   "id": "5abc7a48",
   "metadata": {},
   "outputs": [],
   "source": [
    "from sklearn.linear_model import LinearRegression"
   ]
  },
  {
   "cell_type": "code",
   "execution_count": null,
   "id": "7f13ec4b",
   "metadata": {},
   "outputs": [],
   "source": [
    "lr = LinearRegression()"
   ]
  },
  {
   "cell_type": "code",
   "execution_count": null,
   "id": "9fd7b401",
   "metadata": {},
   "outputs": [],
   "source": [
    "lr.fit(faltas.values.reshape(-1,1), calificaciones.values)"
   ]
  },
  {
   "cell_type": "code",
   "execution_count": null,
   "id": "a1c95922",
   "metadata": {},
   "outputs": [],
   "source": [
    "X_min_max = numpy.array([[dataframe[\"falta\"].min()], [dataframe[\"falta\"].max()]])\n",
    "y_train_pred = lr.predict(X_min_max)\n",
    "print(y_train_pred)"
   ]
  },
  {
   "cell_type": "code",
   "execution_count": null,
   "id": "d1e26755",
   "metadata": {},
   "outputs": [],
   "source": [
    "pyplot.plot(X_min_max, y_train_pred, \"-g\")\n",
    "pyplot.plot(faltas, calificaciones, \"b.\")\n",
    "pyplot.xlabel(\"Faltas\")\n",
    "pyplot.ylabel(\"Calificaciones\")\n",
    "pyplot.show()"
   ]
  },
  {
   "cell_type": "code",
   "execution_count": null,
   "id": "abb41d68",
   "metadata": {},
   "outputs": [],
   "source": [
    "print(lr.coef_)\n",
    "print(lr.intercept_)"
   ]
  },
  {
   "cell_type": "code",
   "execution_count": null,
   "id": "3f3f5499",
   "metadata": {},
   "outputs": [],
   "source": [
    "test1 = numpy.array([[2]])\n",
    "lr.predict(test1)"
   ]
  },
  {
   "cell_type": "code",
   "execution_count": null,
   "id": "1db2f73b",
   "metadata": {},
   "outputs": [],
   "source": [
    "pyplot.plot(X_min_max, y_train_pred, \"g-\")\n",
    "pyplot.plot(faltas, calificaciones, \"b.\")\n",
    "pyplot.plot(test1, lr.predict(test1), \"rx\")\n",
    "pyplot.xlabel(\"Faltas\")\n",
    "pyplot.ylabel(\"Calificaciones\")\n",
    "pyplot.show()"
   ]
  }
 ],
 "metadata": {
  "kernelspec": {
   "display_name": "Python 3 (ipykernel)",
   "language": "python",
   "name": "python3"
  },
  "language_info": {
   "codemirror_mode": {
    "name": "ipython",
    "version": 3
   },
   "file_extension": ".py",
   "mimetype": "text/x-python",
   "name": "python",
   "nbconvert_exporter": "python",
   "pygments_lexer": "ipython3",
   "version": "3.10.2"
  }
 },
 "nbformat": 4,
 "nbformat_minor": 5
}
